{
 "cells": [
  {
   "cell_type": "code",
   "execution_count": 1,
   "id": "d0d8b3cc-0cbf-4c99-a697-23fe7cb77e0c",
   "metadata": {},
   "outputs": [],
   "source": [
    "# Import necessary libraries\n",
    "import pandas as pd\n",
    "import matplotlib.pyplot as plt\n",
    "import seaborn as sns"
   ]
  },
  {
   "cell_type": "code",
   "execution_count": 2,
   "id": "b45c39f8-219a-45bb-aa1a-236d12990db6",
   "metadata": {},
   "outputs": [],
   "source": [
    "# Read the datasets\n",
    "order_details = pd.read_csv(\"./Resources/order_details.csv\")\n",
    "orders = pd.read_csv(\"./Resources/orders.csv\")\n",
    "pizza_types = pd.read_csv(\"./Resources/pizza_types.csv\", encoding='latin-1')\n",
    "pizzas = pd.read_csv(\"./Resources/pizzas.csv\")"
   ]
  },
  {
   "cell_type": "code",
   "execution_count": 3,
   "id": "97041943-8502-4967-b97e-0e5ba1630733",
   "metadata": {},
   "outputs": [],
   "source": [
    "# Define a function to display dataset information\n",
    "def display_dataset_info(dataset_name, dataset):\n",
    "    print(f\"{dataset_name} Info:\")\n",
    "    dataset.info()\n",
    "    print(\"\\nNull Values:\")\n",
    "    print(dataset.isnull().sum())"
   ]
  },
  {
   "cell_type": "code",
   "execution_count": 4,
   "id": "1ea5a737-345e-489e-b252-3d8304fbd45e",
   "metadata": {},
   "outputs": [
    {
     "name": "stdout",
     "output_type": "stream",
     "text": [
      "Order Details Info:\n",
      "<class 'pandas.core.frame.DataFrame'>\n",
      "RangeIndex: 48620 entries, 0 to 48619\n",
      "Data columns (total 4 columns):\n",
      " #   Column            Non-Null Count  Dtype \n",
      "---  ------            --------------  ----- \n",
      " 0   order_details_id  48620 non-null  int64 \n",
      " 1   order_id          48620 non-null  int64 \n",
      " 2   pizza_id          48620 non-null  object\n",
      " 3   quantity          48620 non-null  int64 \n",
      "dtypes: int64(3), object(1)\n",
      "memory usage: 1.5+ MB\n",
      "\n",
      "Null Values:\n",
      "order_details_id    0\n",
      "order_id            0\n",
      "pizza_id            0\n",
      "quantity            0\n",
      "dtype: int64\n",
      "\n",
      "Orders Info:\n",
      "<class 'pandas.core.frame.DataFrame'>\n",
      "RangeIndex: 21350 entries, 0 to 21349\n",
      "Data columns (total 3 columns):\n",
      " #   Column    Non-Null Count  Dtype \n",
      "---  ------    --------------  ----- \n",
      " 0   order_id  21350 non-null  int64 \n",
      " 1   date      21350 non-null  object\n",
      " 2   time      21350 non-null  object\n",
      "dtypes: int64(1), object(2)\n",
      "memory usage: 500.5+ KB\n",
      "\n",
      "Null Values:\n",
      "order_id    0\n",
      "date        0\n",
      "time        0\n",
      "dtype: int64\n",
      "\n",
      "Pizza Types Info:\n",
      "<class 'pandas.core.frame.DataFrame'>\n",
      "RangeIndex: 32 entries, 0 to 31\n",
      "Data columns (total 4 columns):\n",
      " #   Column         Non-Null Count  Dtype \n",
      "---  ------         --------------  ----- \n",
      " 0   pizza_type_id  32 non-null     object\n",
      " 1   name           32 non-null     object\n",
      " 2   category       32 non-null     object\n",
      " 3   ingredients    32 non-null     object\n",
      "dtypes: object(4)\n",
      "memory usage: 1.1+ KB\n",
      "\n",
      "Null Values:\n",
      "pizza_type_id    0\n",
      "name             0\n",
      "category         0\n",
      "ingredients      0\n",
      "dtype: int64\n",
      "\n",
      "Pizzas Info:\n",
      "<class 'pandas.core.frame.DataFrame'>\n",
      "RangeIndex: 96 entries, 0 to 95\n",
      "Data columns (total 4 columns):\n",
      " #   Column         Non-Null Count  Dtype  \n",
      "---  ------         --------------  -----  \n",
      " 0   pizza_id       96 non-null     object \n",
      " 1   pizza_type_id  96 non-null     object \n",
      " 2   size           96 non-null     object \n",
      " 3   price          96 non-null     float64\n",
      "dtypes: float64(1), object(3)\n",
      "memory usage: 3.1+ KB\n",
      "\n",
      "Null Values:\n",
      "pizza_id         0\n",
      "pizza_type_id    0\n",
      "size             0\n",
      "price            0\n",
      "dtype: int64\n",
      "\n"
     ]
    }
   ],
   "source": [
    "# Display dataset information\n",
    "datasets = {\n",
    "    \"Order Details\": order_details,\n",
    "    \"Orders\": orders,\n",
    "    \"Pizza Types\": pizza_types,\n",
    "    \"Pizzas\": pizzas\n",
    "}\n",
    "\n",
    "for dataset_name, dataset in datasets.items():\n",
    "    display_dataset_info(dataset_name, dataset)\n",
    "    print()"
   ]
  },
  {
   "cell_type": "markdown",
   "id": "1e420496-79e5-44ce-a866-8cbfeacfc775",
   "metadata": {},
   "source": [
    "# Data Merging"
   ]
  },
  {
   "cell_type": "code",
   "execution_count": 5,
   "id": "1b5edc9c-dda6-4c76-b633-9c3b5856c7d8",
   "metadata": {},
   "outputs": [
    {
     "data": {
      "text/html": [
       "<div>\n",
       "<style scoped>\n",
       "    .dataframe tbody tr th:only-of-type {\n",
       "        vertical-align: middle;\n",
       "    }\n",
       "\n",
       "    .dataframe tbody tr th {\n",
       "        vertical-align: top;\n",
       "    }\n",
       "\n",
       "    .dataframe thead th {\n",
       "        text-align: right;\n",
       "    }\n",
       "</style>\n",
       "<table border=\"1\" class=\"dataframe\">\n",
       "  <thead>\n",
       "    <tr style=\"text-align: right;\">\n",
       "      <th></th>\n",
       "      <th>pizza_type_id</th>\n",
       "      <th>name</th>\n",
       "      <th>category</th>\n",
       "      <th>ingredients</th>\n",
       "      <th>pizza_id</th>\n",
       "      <th>size</th>\n",
       "      <th>price</th>\n",
       "    </tr>\n",
       "  </thead>\n",
       "  <tbody>\n",
       "    <tr>\n",
       "      <th>0</th>\n",
       "      <td>bbq_ckn</td>\n",
       "      <td>The Barbecue Chicken Pizza</td>\n",
       "      <td>Chicken</td>\n",
       "      <td>Barbecued Chicken, Red Peppers, Green Peppers,...</td>\n",
       "      <td>bbq_ckn_s</td>\n",
       "      <td>S</td>\n",
       "      <td>12.75</td>\n",
       "    </tr>\n",
       "    <tr>\n",
       "      <th>1</th>\n",
       "      <td>bbq_ckn</td>\n",
       "      <td>The Barbecue Chicken Pizza</td>\n",
       "      <td>Chicken</td>\n",
       "      <td>Barbecued Chicken, Red Peppers, Green Peppers,...</td>\n",
       "      <td>bbq_ckn_m</td>\n",
       "      <td>M</td>\n",
       "      <td>16.75</td>\n",
       "    </tr>\n",
       "    <tr>\n",
       "      <th>2</th>\n",
       "      <td>bbq_ckn</td>\n",
       "      <td>The Barbecue Chicken Pizza</td>\n",
       "      <td>Chicken</td>\n",
       "      <td>Barbecued Chicken, Red Peppers, Green Peppers,...</td>\n",
       "      <td>bbq_ckn_l</td>\n",
       "      <td>L</td>\n",
       "      <td>20.75</td>\n",
       "    </tr>\n",
       "    <tr>\n",
       "      <th>3</th>\n",
       "      <td>cali_ckn</td>\n",
       "      <td>The California Chicken Pizza</td>\n",
       "      <td>Chicken</td>\n",
       "      <td>Chicken, Artichoke, Spinach, Garlic, Jalapeno ...</td>\n",
       "      <td>cali_ckn_s</td>\n",
       "      <td>S</td>\n",
       "      <td>12.75</td>\n",
       "    </tr>\n",
       "    <tr>\n",
       "      <th>4</th>\n",
       "      <td>cali_ckn</td>\n",
       "      <td>The California Chicken Pizza</td>\n",
       "      <td>Chicken</td>\n",
       "      <td>Chicken, Artichoke, Spinach, Garlic, Jalapeno ...</td>\n",
       "      <td>cali_ckn_m</td>\n",
       "      <td>M</td>\n",
       "      <td>16.75</td>\n",
       "    </tr>\n",
       "  </tbody>\n",
       "</table>\n",
       "</div>"
      ],
      "text/plain": [
       "  pizza_type_id                          name category  \\\n",
       "0       bbq_ckn    The Barbecue Chicken Pizza  Chicken   \n",
       "1       bbq_ckn    The Barbecue Chicken Pizza  Chicken   \n",
       "2       bbq_ckn    The Barbecue Chicken Pizza  Chicken   \n",
       "3      cali_ckn  The California Chicken Pizza  Chicken   \n",
       "4      cali_ckn  The California Chicken Pizza  Chicken   \n",
       "\n",
       "                                         ingredients    pizza_id size  price  \n",
       "0  Barbecued Chicken, Red Peppers, Green Peppers,...   bbq_ckn_s    S  12.75  \n",
       "1  Barbecued Chicken, Red Peppers, Green Peppers,...   bbq_ckn_m    M  16.75  \n",
       "2  Barbecued Chicken, Red Peppers, Green Peppers,...   bbq_ckn_l    L  20.75  \n",
       "3  Chicken, Artichoke, Spinach, Garlic, Jalapeno ...  cali_ckn_s    S  12.75  \n",
       "4  Chicken, Artichoke, Spinach, Garlic, Jalapeno ...  cali_ckn_m    M  16.75  "
      ]
     },
     "execution_count": 5,
     "metadata": {},
     "output_type": "execute_result"
    }
   ],
   "source": [
    "# Merge the pizza_types and pizzas dataframes based on the 'pizza_type_id' column\n",
    "pizza_data = pd.merge(pizza_types, pizzas, on='pizza_type_id')\n",
    "pizza_data.head()"
   ]
  },
  {
   "cell_type": "code",
   "execution_count": 6,
   "id": "4189017f-815f-4152-a6bb-44ddd864a5b9",
   "metadata": {},
   "outputs": [
    {
     "data": {
      "text/html": [
       "<div>\n",
       "<style scoped>\n",
       "    .dataframe tbody tr th:only-of-type {\n",
       "        vertical-align: middle;\n",
       "    }\n",
       "\n",
       "    .dataframe tbody tr th {\n",
       "        vertical-align: top;\n",
       "    }\n",
       "\n",
       "    .dataframe thead th {\n",
       "        text-align: right;\n",
       "    }\n",
       "</style>\n",
       "<table border=\"1\" class=\"dataframe\">\n",
       "  <thead>\n",
       "    <tr style=\"text-align: right;\">\n",
       "      <th></th>\n",
       "      <th>order_details_id</th>\n",
       "      <th>order_id</th>\n",
       "      <th>pizza_id</th>\n",
       "      <th>quantity</th>\n",
       "      <th>pizza_type_id</th>\n",
       "      <th>size</th>\n",
       "      <th>price</th>\n",
       "    </tr>\n",
       "  </thead>\n",
       "  <tbody>\n",
       "    <tr>\n",
       "      <th>0</th>\n",
       "      <td>1</td>\n",
       "      <td>1</td>\n",
       "      <td>hawaiian_m</td>\n",
       "      <td>1</td>\n",
       "      <td>hawaiian</td>\n",
       "      <td>M</td>\n",
       "      <td>13.25</td>\n",
       "    </tr>\n",
       "    <tr>\n",
       "      <th>1</th>\n",
       "      <td>179</td>\n",
       "      <td>77</td>\n",
       "      <td>hawaiian_m</td>\n",
       "      <td>1</td>\n",
       "      <td>hawaiian</td>\n",
       "      <td>M</td>\n",
       "      <td>13.25</td>\n",
       "    </tr>\n",
       "    <tr>\n",
       "      <th>2</th>\n",
       "      <td>357</td>\n",
       "      <td>146</td>\n",
       "      <td>hawaiian_m</td>\n",
       "      <td>1</td>\n",
       "      <td>hawaiian</td>\n",
       "      <td>M</td>\n",
       "      <td>13.25</td>\n",
       "    </tr>\n",
       "    <tr>\n",
       "      <th>3</th>\n",
       "      <td>389</td>\n",
       "      <td>163</td>\n",
       "      <td>hawaiian_m</td>\n",
       "      <td>1</td>\n",
       "      <td>hawaiian</td>\n",
       "      <td>M</td>\n",
       "      <td>13.25</td>\n",
       "    </tr>\n",
       "    <tr>\n",
       "      <th>4</th>\n",
       "      <td>568</td>\n",
       "      <td>247</td>\n",
       "      <td>hawaiian_m</td>\n",
       "      <td>1</td>\n",
       "      <td>hawaiian</td>\n",
       "      <td>M</td>\n",
       "      <td>13.25</td>\n",
       "    </tr>\n",
       "  </tbody>\n",
       "</table>\n",
       "</div>"
      ],
      "text/plain": [
       "   order_details_id  order_id    pizza_id  quantity pizza_type_id size  price\n",
       "0                 1         1  hawaiian_m         1      hawaiian    M  13.25\n",
       "1               179        77  hawaiian_m         1      hawaiian    M  13.25\n",
       "2               357       146  hawaiian_m         1      hawaiian    M  13.25\n",
       "3               389       163  hawaiian_m         1      hawaiian    M  13.25\n",
       "4               568       247  hawaiian_m         1      hawaiian    M  13.25"
      ]
     },
     "execution_count": 6,
     "metadata": {},
     "output_type": "execute_result"
    }
   ],
   "source": [
    "# Merge the order_details and pizzas dataframes based on the 'pizza_id' column\n",
    "merged_data_pizzaId = pd.merge(order_details, pizzas, on='pizza_id')\n",
    "merged_data_pizzaId.head()"
   ]
  },
  {
   "cell_type": "code",
   "execution_count": 7,
   "id": "41eb7b65-64fd-46e1-bbd8-19c6b2f96d17",
   "metadata": {},
   "outputs": [
    {
     "data": {
      "text/html": [
       "<div>\n",
       "<style scoped>\n",
       "    .dataframe tbody tr th:only-of-type {\n",
       "        vertical-align: middle;\n",
       "    }\n",
       "\n",
       "    .dataframe tbody tr th {\n",
       "        vertical-align: top;\n",
       "    }\n",
       "\n",
       "    .dataframe thead th {\n",
       "        text-align: right;\n",
       "    }\n",
       "</style>\n",
       "<table border=\"1\" class=\"dataframe\">\n",
       "  <thead>\n",
       "    <tr style=\"text-align: right;\">\n",
       "      <th></th>\n",
       "      <th>order_details_id</th>\n",
       "      <th>order_id</th>\n",
       "      <th>pizza_id</th>\n",
       "      <th>quantity</th>\n",
       "      <th>pizza_type_id</th>\n",
       "      <th>size</th>\n",
       "      <th>price</th>\n",
       "      <th>total_price</th>\n",
       "    </tr>\n",
       "  </thead>\n",
       "  <tbody>\n",
       "    <tr>\n",
       "      <th>0</th>\n",
       "      <td>1</td>\n",
       "      <td>1</td>\n",
       "      <td>hawaiian_m</td>\n",
       "      <td>1</td>\n",
       "      <td>hawaiian</td>\n",
       "      <td>M</td>\n",
       "      <td>13.25</td>\n",
       "      <td>13.25</td>\n",
       "    </tr>\n",
       "    <tr>\n",
       "      <th>1</th>\n",
       "      <td>179</td>\n",
       "      <td>77</td>\n",
       "      <td>hawaiian_m</td>\n",
       "      <td>1</td>\n",
       "      <td>hawaiian</td>\n",
       "      <td>M</td>\n",
       "      <td>13.25</td>\n",
       "      <td>13.25</td>\n",
       "    </tr>\n",
       "    <tr>\n",
       "      <th>2</th>\n",
       "      <td>357</td>\n",
       "      <td>146</td>\n",
       "      <td>hawaiian_m</td>\n",
       "      <td>1</td>\n",
       "      <td>hawaiian</td>\n",
       "      <td>M</td>\n",
       "      <td>13.25</td>\n",
       "      <td>13.25</td>\n",
       "    </tr>\n",
       "    <tr>\n",
       "      <th>3</th>\n",
       "      <td>389</td>\n",
       "      <td>163</td>\n",
       "      <td>hawaiian_m</td>\n",
       "      <td>1</td>\n",
       "      <td>hawaiian</td>\n",
       "      <td>M</td>\n",
       "      <td>13.25</td>\n",
       "      <td>13.25</td>\n",
       "    </tr>\n",
       "    <tr>\n",
       "      <th>4</th>\n",
       "      <td>568</td>\n",
       "      <td>247</td>\n",
       "      <td>hawaiian_m</td>\n",
       "      <td>1</td>\n",
       "      <td>hawaiian</td>\n",
       "      <td>M</td>\n",
       "      <td>13.25</td>\n",
       "      <td>13.25</td>\n",
       "    </tr>\n",
       "  </tbody>\n",
       "</table>\n",
       "</div>"
      ],
      "text/plain": [
       "   order_details_id  order_id    pizza_id  quantity pizza_type_id size  price  \\\n",
       "0                 1         1  hawaiian_m         1      hawaiian    M  13.25   \n",
       "1               179        77  hawaiian_m         1      hawaiian    M  13.25   \n",
       "2               357       146  hawaiian_m         1      hawaiian    M  13.25   \n",
       "3               389       163  hawaiian_m         1      hawaiian    M  13.25   \n",
       "4               568       247  hawaiian_m         1      hawaiian    M  13.25   \n",
       "\n",
       "   total_price  \n",
       "0        13.25  \n",
       "1        13.25  \n",
       "2        13.25  \n",
       "3        13.25  \n",
       "4        13.25  "
      ]
     },
     "execution_count": 7,
     "metadata": {},
     "output_type": "execute_result"
    }
   ],
   "source": [
    "# Calculate the total price for each order by multiplying the quantity and price columns\n",
    "merged_data_pizzaId['total_price'] = merged_data_pizzaId['quantity'] * merged_data_pizzaId['price']\n",
    "merged_data_pizzaId.head()"
   ]
  },
  {
   "cell_type": "code",
   "execution_count": 8,
   "id": "e77a4983-f09a-406f-86e3-c2baa28326d7",
   "metadata": {},
   "outputs": [
    {
     "name": "stdout",
     "output_type": "stream",
     "text": [
      "Total Revenue: 817860.0499999999\n"
     ]
    }
   ],
   "source": [
    "# Calculate the total revenue generated from pizza sales by summing up the 'total_price' column\n",
    "total_revenue = merged_data_pizzaId['total_price'].sum()\n",
    "\n",
    "# Print the total revenue\n",
    "print(\"Total Revenue:\", total_revenue)"
   ]
  },
  {
   "cell_type": "markdown",
   "id": "873bf911-4943-4717-8f3f-b3817dd694a2",
   "metadata": {},
   "source": [
    "# Data Aggregation"
   ]
  },
  {
   "cell_type": "code",
   "execution_count": 9,
   "id": "824be8fe-3066-4d53-bf2b-d35a6247e73c",
   "metadata": {},
   "outputs": [
    {
     "data": {
      "text/plain": [
       "pizza_type_id\n",
       "bbq_ckn         2432\n",
       "big_meat        1914\n",
       "brie_carre       490\n",
       "calabrese        937\n",
       "cali_ckn        2370\n",
       "ckn_alfredo      987\n",
       "ckn_pesto        973\n",
       "classic_dlx     2453\n",
       "five_cheese     1409\n",
       "four_cheese     1902\n",
       "green_garden     997\n",
       "hawaiian        2422\n",
       "ital_cpcllo     1438\n",
       "ital_supr       1884\n",
       "ital_veggie      981\n",
       "mediterraneo     934\n",
       "mexicana        1484\n",
       "napolitana      1464\n",
       "pep_msh_pep     1359\n",
       "pepperoni       2418\n",
       "peppr_salami    1446\n",
       "prsc_argla      1457\n",
       "sicilian        1938\n",
       "soppressata      961\n",
       "southw_ckn      1917\n",
       "spicy_ital      1924\n",
       "spin_pesto       970\n",
       "spinach_fet     1446\n",
       "spinach_supr     950\n",
       "thai_ckn        2371\n",
       "the_greek       1420\n",
       "veggie_veg      1526\n",
       "Name: quantity, dtype: int64"
      ]
     },
     "execution_count": 9,
     "metadata": {},
     "output_type": "execute_result"
    }
   ],
   "source": [
    "# Calculate the total quantity of each pizza ordered\n",
    "pizza_quantity = merged_data_pizzaId.groupby('pizza_type_id')['quantity'].sum()\n",
    "pizza_quantity"
   ]
  },
  {
   "cell_type": "code",
   "execution_count": 10,
   "id": "9d3e1080-fbd9-4686-8d62-138593e615c6",
   "metadata": {},
   "outputs": [
    {
     "data": {
      "text/html": [
       "<div>\n",
       "<style scoped>\n",
       "    .dataframe tbody tr th:only-of-type {\n",
       "        vertical-align: middle;\n",
       "    }\n",
       "\n",
       "    .dataframe tbody tr th {\n",
       "        vertical-align: top;\n",
       "    }\n",
       "\n",
       "    .dataframe thead th {\n",
       "        text-align: right;\n",
       "    }\n",
       "</style>\n",
       "<table border=\"1\" class=\"dataframe\">\n",
       "  <thead>\n",
       "    <tr style=\"text-align: right;\">\n",
       "      <th></th>\n",
       "      <th>order_id</th>\n",
       "      <th>date</th>\n",
       "      <th>time</th>\n",
       "      <th>day_of_week</th>\n",
       "    </tr>\n",
       "  </thead>\n",
       "  <tbody>\n",
       "    <tr>\n",
       "      <th>0</th>\n",
       "      <td>1</td>\n",
       "      <td>2015-01-01</td>\n",
       "      <td>11:38:36</td>\n",
       "      <td>Thursday</td>\n",
       "    </tr>\n",
       "    <tr>\n",
       "      <th>1</th>\n",
       "      <td>2</td>\n",
       "      <td>2015-01-01</td>\n",
       "      <td>11:57:40</td>\n",
       "      <td>Thursday</td>\n",
       "    </tr>\n",
       "    <tr>\n",
       "      <th>2</th>\n",
       "      <td>3</td>\n",
       "      <td>2015-01-01</td>\n",
       "      <td>12:12:28</td>\n",
       "      <td>Thursday</td>\n",
       "    </tr>\n",
       "    <tr>\n",
       "      <th>3</th>\n",
       "      <td>4</td>\n",
       "      <td>2015-01-01</td>\n",
       "      <td>12:16:31</td>\n",
       "      <td>Thursday</td>\n",
       "    </tr>\n",
       "    <tr>\n",
       "      <th>4</th>\n",
       "      <td>5</td>\n",
       "      <td>2015-01-01</td>\n",
       "      <td>12:21:30</td>\n",
       "      <td>Thursday</td>\n",
       "    </tr>\n",
       "  </tbody>\n",
       "</table>\n",
       "</div>"
      ],
      "text/plain": [
       "   order_id       date      time day_of_week\n",
       "0         1 2015-01-01  11:38:36    Thursday\n",
       "1         2 2015-01-01  11:57:40    Thursday\n",
       "2         3 2015-01-01  12:12:28    Thursday\n",
       "3         4 2015-01-01  12:16:31    Thursday\n",
       "4         5 2015-01-01  12:21:30    Thursday"
      ]
     },
     "execution_count": 10,
     "metadata": {},
     "output_type": "execute_result"
    }
   ],
   "source": [
    "# Map the day of the week to its respective name\n",
    "day_of_week_mapping = {0: 'Monday', 1: 'Tuesday', 2: 'Wednesday', 3: 'Thursday', 4: 'Friday', 5: 'Saturday', 6: 'Sunday'}\n",
    "\n",
    "# Order Day of Week\n",
    "# Convert the 'date' column to datetime type\n",
    "orders['date'] = pd.to_datetime(orders['date'])\n",
    "\n",
    "# Extract the day of the week from the 'date' column and map it to its respective name\n",
    "orders['day_of_week'] = orders['date'].dt.dayofweek\n",
    "orders['day_of_week'] = orders['day_of_week'].map(day_of_week_mapping)\n",
    "\n",
    "orders.head()"
   ]
  },
  {
   "cell_type": "code",
   "execution_count": 11,
   "id": "1983a46c-37a9-43bb-9260-3e4d027de5df",
   "metadata": {},
   "outputs": [
    {
     "data": {
      "text/plain": [
       "Friday       3538\n",
       "Thursday     3239\n",
       "Saturday     3158\n",
       "Wednesday    3024\n",
       "Tuesday      2973\n",
       "Monday       2794\n",
       "Sunday       2624\n",
       "Name: day_of_week, dtype: int64"
      ]
     },
     "execution_count": 11,
     "metadata": {},
     "output_type": "execute_result"
    }
   ],
   "source": [
    "# Count the number of orders for each day of the week\n",
    "orders_by_day = orders['day_of_week'].value_counts()\n",
    "orders_by_day"
   ]
  },
  {
   "cell_type": "code",
   "execution_count": 12,
   "id": "61bd76db-c588-403e-a3b7-fc42b094ee18",
   "metadata": {},
   "outputs": [
    {
     "data": {
      "text/plain": [
       "Garlic               20\n",
       "Tomatoes             18\n",
       "Red Onions           13\n",
       "Red Peppers          10\n",
       "Spinach               8\n",
       "Mushrooms             7\n",
       "Pepperoni             6\n",
       "Mozzarella Cheese     6\n",
       "Artichokes            5\n",
       "Chicken               5\n",
       "dtype: int64"
      ]
     },
     "execution_count": 12,
     "metadata": {},
     "output_type": "execute_result"
    }
   ],
   "source": [
    "# Split the ingredients column and count the occurrence of each ingredient\n",
    "# Join the ingredients with commas, split them, and count the occurrences\n",
    "all_ingredients = ', '.join(pizza_types['ingredients']).split(', ')\n",
    "ingredient_counts = pd.Series(all_ingredients).value_counts().head(10)\n",
    "ingredient_counts"
   ]
  },
  {
   "cell_type": "markdown",
   "id": "961b4181-788d-4ee8-a9ef-a41d41593b34",
   "metadata": {},
   "source": [
    "# Time series based analysis"
   ]
  },
  {
   "cell_type": "code",
   "execution_count": 13,
   "id": "75b5725c-2265-44f6-8989-5dd180cac109",
   "metadata": {},
   "outputs": [],
   "source": [
    "# Convert start_time and end_time to datetime type\n",
    "start_time = pd.to_datetime('2015-01-01 12:00:00')\n",
    "end_time = pd.to_datetime('2015-01-01 14:00:00')\n",
    "\n",
    "# Convert start_date and end_date to datetime type\n",
    "start_date = pd.to_datetime('2015-05-01')\n",
    "end_date = pd.to_datetime('2015-05-31')"
   ]
  },
  {
   "cell_type": "code",
   "execution_count": 14,
   "id": "4bab43ce-b6a5-4e83-ab9a-8dd8944967ee",
   "metadata": {},
   "outputs": [
    {
     "data": {
      "text/html": [
       "<div>\n",
       "<style scoped>\n",
       "    .dataframe tbody tr th:only-of-type {\n",
       "        vertical-align: middle;\n",
       "    }\n",
       "\n",
       "    .dataframe tbody tr th {\n",
       "        vertical-align: top;\n",
       "    }\n",
       "\n",
       "    .dataframe thead th {\n",
       "        text-align: right;\n",
       "    }\n",
       "</style>\n",
       "<table border=\"1\" class=\"dataframe\">\n",
       "  <thead>\n",
       "    <tr style=\"text-align: right;\">\n",
       "      <th></th>\n",
       "      <th>order_id</th>\n",
       "      <th>date</th>\n",
       "      <th>time</th>\n",
       "      <th>day_of_week</th>\n",
       "    </tr>\n",
       "  </thead>\n",
       "  <tbody>\n",
       "    <tr>\n",
       "      <th>0</th>\n",
       "      <td>1</td>\n",
       "      <td>2015-01-01</td>\n",
       "      <td>2023-05-24 11:38:36</td>\n",
       "      <td>Thursday</td>\n",
       "    </tr>\n",
       "    <tr>\n",
       "      <th>1</th>\n",
       "      <td>2</td>\n",
       "      <td>2015-01-01</td>\n",
       "      <td>2023-05-24 11:57:40</td>\n",
       "      <td>Thursday</td>\n",
       "    </tr>\n",
       "    <tr>\n",
       "      <th>2</th>\n",
       "      <td>3</td>\n",
       "      <td>2015-01-01</td>\n",
       "      <td>2023-05-24 12:12:28</td>\n",
       "      <td>Thursday</td>\n",
       "    </tr>\n",
       "    <tr>\n",
       "      <th>3</th>\n",
       "      <td>4</td>\n",
       "      <td>2015-01-01</td>\n",
       "      <td>2023-05-24 12:16:31</td>\n",
       "      <td>Thursday</td>\n",
       "    </tr>\n",
       "    <tr>\n",
       "      <th>4</th>\n",
       "      <td>5</td>\n",
       "      <td>2015-01-01</td>\n",
       "      <td>2023-05-24 12:21:30</td>\n",
       "      <td>Thursday</td>\n",
       "    </tr>\n",
       "  </tbody>\n",
       "</table>\n",
       "</div>"
      ],
      "text/plain": [
       "   order_id       date                time day_of_week\n",
       "0         1 2015-01-01 2023-05-24 11:38:36    Thursday\n",
       "1         2 2015-01-01 2023-05-24 11:57:40    Thursday\n",
       "2         3 2015-01-01 2023-05-24 12:12:28    Thursday\n",
       "3         4 2015-01-01 2023-05-24 12:16:31    Thursday\n",
       "4         5 2015-01-01 2023-05-24 12:21:30    Thursday"
      ]
     },
     "execution_count": 14,
     "metadata": {},
     "output_type": "execute_result"
    }
   ],
   "source": [
    "# Convert the 'time' column to datetime type\n",
    "orders['time'] = pd.to_datetime(orders['time'])\n",
    "orders.head()"
   ]
  },
  {
   "cell_type": "code",
   "execution_count": 15,
   "id": "a948f122-6021-4a22-86a6-3873e1f2cdbc",
   "metadata": {},
   "outputs": [
    {
     "data": {
      "text/html": [
       "<div>\n",
       "<style scoped>\n",
       "    .dataframe tbody tr th:only-of-type {\n",
       "        vertical-align: middle;\n",
       "    }\n",
       "\n",
       "    .dataframe tbody tr th {\n",
       "        vertical-align: top;\n",
       "    }\n",
       "\n",
       "    .dataframe thead th {\n",
       "        text-align: right;\n",
       "    }\n",
       "</style>\n",
       "<table border=\"1\" class=\"dataframe\">\n",
       "  <thead>\n",
       "    <tr style=\"text-align: right;\">\n",
       "      <th></th>\n",
       "      <th>order_id</th>\n",
       "      <th>date</th>\n",
       "      <th>time</th>\n",
       "      <th>day_of_week</th>\n",
       "    </tr>\n",
       "  </thead>\n",
       "  <tbody>\n",
       "  </tbody>\n",
       "</table>\n",
       "</div>"
      ],
      "text/plain": [
       "Empty DataFrame\n",
       "Columns: [order_id, date, time, day_of_week]\n",
       "Index: []"
      ]
     },
     "execution_count": 15,
     "metadata": {},
     "output_type": "execute_result"
    }
   ],
   "source": [
    "# Filter orders for a specific time range\n",
    "filtered_orders_time = orders[(orders['time'] >= start_time) & (orders['time'] <= end_time)]\n",
    "filtered_orders_time.head()"
   ]
  },
  {
   "cell_type": "code",
   "execution_count": 16,
   "id": "bf1acc49-771b-4828-9c49-4476b32da5a9",
   "metadata": {},
   "outputs": [
    {
     "data": {
      "text/html": [
       "<div>\n",
       "<style scoped>\n",
       "    .dataframe tbody tr th:only-of-type {\n",
       "        vertical-align: middle;\n",
       "    }\n",
       "\n",
       "    .dataframe tbody tr th {\n",
       "        vertical-align: top;\n",
       "    }\n",
       "\n",
       "    .dataframe thead th {\n",
       "        text-align: right;\n",
       "    }\n",
       "</style>\n",
       "<table border=\"1\" class=\"dataframe\">\n",
       "  <thead>\n",
       "    <tr style=\"text-align: right;\">\n",
       "      <th></th>\n",
       "      <th>order_id</th>\n",
       "      <th>date</th>\n",
       "      <th>time</th>\n",
       "      <th>day_of_week</th>\n",
       "    </tr>\n",
       "  </thead>\n",
       "  <tbody>\n",
       "    <tr>\n",
       "      <th>7169</th>\n",
       "      <td>7170</td>\n",
       "      <td>2015-05-01</td>\n",
       "      <td>2023-05-24 11:31:03</td>\n",
       "      <td>Friday</td>\n",
       "    </tr>\n",
       "    <tr>\n",
       "      <th>7170</th>\n",
       "      <td>7171</td>\n",
       "      <td>2015-05-01</td>\n",
       "      <td>2023-05-24 11:42:07</td>\n",
       "      <td>Friday</td>\n",
       "    </tr>\n",
       "    <tr>\n",
       "      <th>7171</th>\n",
       "      <td>7172</td>\n",
       "      <td>2015-05-01</td>\n",
       "      <td>2023-05-24 11:43:01</td>\n",
       "      <td>Friday</td>\n",
       "    </tr>\n",
       "    <tr>\n",
       "      <th>7172</th>\n",
       "      <td>7173</td>\n",
       "      <td>2015-05-01</td>\n",
       "      <td>2023-05-24 11:43:37</td>\n",
       "      <td>Friday</td>\n",
       "    </tr>\n",
       "    <tr>\n",
       "      <th>7173</th>\n",
       "      <td>7174</td>\n",
       "      <td>2015-05-01</td>\n",
       "      <td>2023-05-24 11:51:22</td>\n",
       "      <td>Friday</td>\n",
       "    </tr>\n",
       "  </tbody>\n",
       "</table>\n",
       "</div>"
      ],
      "text/plain": [
       "      order_id       date                time day_of_week\n",
       "7169      7170 2015-05-01 2023-05-24 11:31:03      Friday\n",
       "7170      7171 2015-05-01 2023-05-24 11:42:07      Friday\n",
       "7171      7172 2015-05-01 2023-05-24 11:43:01      Friday\n",
       "7172      7173 2015-05-01 2023-05-24 11:43:37      Friday\n",
       "7173      7174 2015-05-01 2023-05-24 11:51:22      Friday"
      ]
     },
     "execution_count": 16,
     "metadata": {},
     "output_type": "execute_result"
    }
   ],
   "source": [
    "# Filter orders for a specific date range\n",
    "filtered_orders_data = orders[(orders['date'] >= start_date) & (orders['date'] <= end_date)]\n",
    "filtered_orders_data.head()"
   ]
  },
  {
   "cell_type": "code",
   "execution_count": 17,
   "id": "99bc13b2-f5fa-40d7-ba7e-61bec31aa581",
   "metadata": {},
   "outputs": [
    {
     "data": {
      "text/html": [
       "<div>\n",
       "<style scoped>\n",
       "    .dataframe tbody tr th:only-of-type {\n",
       "        vertical-align: middle;\n",
       "    }\n",
       "\n",
       "    .dataframe tbody tr th {\n",
       "        vertical-align: top;\n",
       "    }\n",
       "\n",
       "    .dataframe thead th {\n",
       "        text-align: right;\n",
       "    }\n",
       "</style>\n",
       "<table border=\"1\" class=\"dataframe\">\n",
       "  <thead>\n",
       "    <tr style=\"text-align: right;\">\n",
       "      <th></th>\n",
       "      <th>order_id</th>\n",
       "      <th>date</th>\n",
       "      <th>time</th>\n",
       "      <th>day_of_week</th>\n",
       "      <th>hour</th>\n",
       "      <th>month</th>\n",
       "    </tr>\n",
       "  </thead>\n",
       "  <tbody>\n",
       "    <tr>\n",
       "      <th>0</th>\n",
       "      <td>1</td>\n",
       "      <td>2015-01-01</td>\n",
       "      <td>2023-05-24 11:38:36</td>\n",
       "      <td>Thursday</td>\n",
       "      <td>11</td>\n",
       "      <td>1</td>\n",
       "    </tr>\n",
       "    <tr>\n",
       "      <th>1</th>\n",
       "      <td>2</td>\n",
       "      <td>2015-01-01</td>\n",
       "      <td>2023-05-24 11:57:40</td>\n",
       "      <td>Thursday</td>\n",
       "      <td>11</td>\n",
       "      <td>1</td>\n",
       "    </tr>\n",
       "    <tr>\n",
       "      <th>2</th>\n",
       "      <td>3</td>\n",
       "      <td>2015-01-01</td>\n",
       "      <td>2023-05-24 12:12:28</td>\n",
       "      <td>Thursday</td>\n",
       "      <td>12</td>\n",
       "      <td>1</td>\n",
       "    </tr>\n",
       "    <tr>\n",
       "      <th>3</th>\n",
       "      <td>4</td>\n",
       "      <td>2015-01-01</td>\n",
       "      <td>2023-05-24 12:16:31</td>\n",
       "      <td>Thursday</td>\n",
       "      <td>12</td>\n",
       "      <td>1</td>\n",
       "    </tr>\n",
       "    <tr>\n",
       "      <th>4</th>\n",
       "      <td>5</td>\n",
       "      <td>2015-01-01</td>\n",
       "      <td>2023-05-24 12:21:30</td>\n",
       "      <td>Thursday</td>\n",
       "      <td>12</td>\n",
       "      <td>1</td>\n",
       "    </tr>\n",
       "  </tbody>\n",
       "</table>\n",
       "</div>"
      ],
      "text/plain": [
       "   order_id       date                time day_of_week  hour  month\n",
       "0         1 2015-01-01 2023-05-24 11:38:36    Thursday    11      1\n",
       "1         2 2015-01-01 2023-05-24 11:57:40    Thursday    11      1\n",
       "2         3 2015-01-01 2023-05-24 12:12:28    Thursday    12      1\n",
       "3         4 2015-01-01 2023-05-24 12:16:31    Thursday    12      1\n",
       "4         5 2015-01-01 2023-05-24 12:21:30    Thursday    12      1"
      ]
     },
     "execution_count": 17,
     "metadata": {},
     "output_type": "execute_result"
    }
   ],
   "source": [
    "# Extract the hour and month from the 'time' and 'date' columns, respectively\n",
    "orders['time'] = pd.to_datetime(orders['time'])\n",
    "orders['hour'] = orders['time'].dt.hour\n",
    "orders['month'] = orders['date'].dt.month\n",
    "orders.head()"
   ]
  },
  {
   "cell_type": "code",
   "execution_count": 18,
   "id": "c4c76608-5860-4fe0-a08f-055d56bd92fe",
   "metadata": {},
   "outputs": [
    {
     "data": {
      "text/plain": [
       "hour\n",
       "9        1\n",
       "10       8\n",
       "11    1231\n",
       "12    2520\n",
       "13    2455\n",
       "14    1472\n",
       "15    1468\n",
       "16    1920\n",
       "17    2336\n",
       "18    2399\n",
       "19    2009\n",
       "20    1642\n",
       "21    1198\n",
       "22     663\n",
       "23      28\n",
       "Name: order_id, dtype: int64"
      ]
     },
     "execution_count": 18,
     "metadata": {},
     "output_type": "execute_result"
    }
   ],
   "source": [
    "# Count the number of orders for each hour of the day\n",
    "orders_by_hour = orders.groupby('hour')['order_id'].count()\n",
    "orders_by_hour"
   ]
  },
  {
   "cell_type": "code",
   "execution_count": 19,
   "id": "e30fdfc6-6f58-472d-b3a8-bd3508fc91cc",
   "metadata": {},
   "outputs": [
    {
     "data": {
      "text/plain": [
       "month\n",
       "1.0     29310.25\n",
       "2.0     33464.50\n",
       "3.0     36931.75\n",
       "4.0     31880.00\n",
       "5.0     22897.25\n",
       "6.0     30576.50\n",
       "7.0     36674.75\n",
       "8.0     38947.50\n",
       "9.0     34708.75\n",
       "10.0    26269.25\n",
       "11.0    26065.50\n",
       "12.0    28202.80\n",
       "Name: total_price, dtype: float64"
      ]
     },
     "execution_count": 19,
     "metadata": {},
     "output_type": "execute_result"
    }
   ],
   "source": [
    "# Calculate the total revenue generated each month\n",
    "revenue_by_month = merged_data_pizzaId.groupby(orders['month'])['total_price'].sum()\n",
    "revenue_by_month"
   ]
  },
  {
   "cell_type": "code",
   "execution_count": 20,
   "id": "c9b7554e-4b67-4dfb-b428-e4ec39c9ab0b",
   "metadata": {},
   "outputs": [
    {
     "data": {
      "text/plain": [
       "season\n",
       "1.0     99706.50\n",
       "2.0     85353.75\n",
       "3.0    110331.00\n",
       "4.0     80537.55\n",
       "Name: total_price, dtype: float64"
      ]
     },
     "execution_count": 20,
     "metadata": {},
     "output_type": "execute_result"
    }
   ],
   "source": [
    "# Calculate the average order quantity and revenue by season (spring, summer, fall, winter).\n",
    "orders['season'] = pd.to_datetime(orders['date']).dt.quarter\n",
    "average_order_quantity_by_season = merged_data_pizzaId.groupby(orders['season'])['quantity'].mean()\n",
    "revenue_by_season = merged_data_pizzaId.groupby(orders['season'])['total_price'].sum()\n",
    "revenue_by_season"
   ]
  },
  {
   "cell_type": "markdown",
   "id": "c42f1122-ba9a-4ee4-a673-0f735d9d9f28",
   "metadata": {},
   "source": [
    "# Statistical Analysis"
   ]
  },
  {
   "cell_type": "code",
   "execution_count": 21,
   "id": "0e6193a8-599b-4c8a-ac93-5a1c4958aa1d",
   "metadata": {},
   "outputs": [
    {
     "data": {
      "text/plain": [
       "date\n",
       "1.0     1.019512\n",
       "2.0     1.033828\n",
       "3.0     1.023913\n",
       "4.0     1.022235\n",
       "5.0     1.014031\n",
       "6.0     1.019177\n",
       "7.0     1.019638\n",
       "8.0     1.025530\n",
       "9.0     1.031306\n",
       "10.0    1.024909\n",
       "11.0    1.040179\n",
       "12.0    1.040476\n",
       "Name: quantity, dtype: float64"
      ]
     },
     "execution_count": 21,
     "metadata": {},
     "output_type": "execute_result"
    }
   ],
   "source": [
    "# Calculate the average order size for each month\n",
    "average_order_size = merged_data_pizzaId.groupby(orders['date'].dt.month)['quantity'].mean()\n",
    "average_order_size"
   ]
  },
  {
   "cell_type": "code",
   "execution_count": 22,
   "id": "fd8ea8a5-a3d9-454d-81b3-69517a0992db",
   "metadata": {},
   "outputs": [
    {
     "data": {
      "text/plain": [
       "classic_dlx     2416\n",
       "bbq_ckn         2372\n",
       "hawaiian        2370\n",
       "pepperoni       2369\n",
       "thai_ckn        2315\n",
       "cali_ckn        2302\n",
       "sicilian        1887\n",
       "spicy_ital      1887\n",
       "southw_ckn      1885\n",
       "four_cheese     1850\n",
       "ital_supr       1849\n",
       "big_meat        1811\n",
       "veggie_veg      1510\n",
       "mexicana        1456\n",
       "napolitana      1451\n",
       "spinach_fet     1432\n",
       "prsc_argla      1428\n",
       "peppr_salami    1422\n",
       "ital_cpcllo     1414\n",
       "the_greek       1406\n",
       "five_cheese     1359\n",
       "pep_msh_pep     1342\n",
       "green_garden     987\n",
       "ckn_alfredo      980\n",
       "ital_veggie      975\n",
       "ckn_pesto        961\n",
       "spin_pesto       957\n",
       "soppressata      957\n",
       "spinach_supr     940\n",
       "calabrese        927\n",
       "mediterraneo     923\n",
       "brie_carre       480\n",
       "Name: pizza_type_id, dtype: int64"
      ]
     },
     "execution_count": 22,
     "metadata": {},
     "output_type": "execute_result"
    }
   ],
   "source": [
    "# Determine the most popular pizzas based on the number of orders\n",
    "popular_pizzas = merged_data_pizzaId['pizza_type_id'].value_counts()\n",
    "popular_pizzas"
   ]
  },
  {
   "cell_type": "code",
   "execution_count": 23,
   "id": "55598f69-d062-4990-ae91-7933909510d8",
   "metadata": {},
   "outputs": [
    {
     "data": {
      "text/html": [
       "<div>\n",
       "<style scoped>\n",
       "    .dataframe tbody tr th:only-of-type {\n",
       "        vertical-align: middle;\n",
       "    }\n",
       "\n",
       "    .dataframe tbody tr th {\n",
       "        vertical-align: top;\n",
       "    }\n",
       "\n",
       "    .dataframe thead th {\n",
       "        text-align: right;\n",
       "    }\n",
       "</style>\n",
       "<table border=\"1\" class=\"dataframe\">\n",
       "  <thead>\n",
       "    <tr style=\"text-align: right;\">\n",
       "      <th></th>\n",
       "      <th>pizza_id</th>\n",
       "      <th>pizza_type_id</th>\n",
       "      <th>size</th>\n",
       "      <th>price</th>\n",
       "    </tr>\n",
       "  </thead>\n",
       "  <tbody>\n",
       "    <tr>\n",
       "      <th>2</th>\n",
       "      <td>bbq_ckn_l</td>\n",
       "      <td>bbq_ckn</td>\n",
       "      <td>L</td>\n",
       "      <td>20.75</td>\n",
       "    </tr>\n",
       "    <tr>\n",
       "      <th>5</th>\n",
       "      <td>cali_ckn_l</td>\n",
       "      <td>cali_ckn</td>\n",
       "      <td>L</td>\n",
       "      <td>20.75</td>\n",
       "    </tr>\n",
       "    <tr>\n",
       "      <th>8</th>\n",
       "      <td>ckn_alfredo_l</td>\n",
       "      <td>ckn_alfredo</td>\n",
       "      <td>L</td>\n",
       "      <td>20.75</td>\n",
       "    </tr>\n",
       "    <tr>\n",
       "      <th>11</th>\n",
       "      <td>ckn_pesto_l</td>\n",
       "      <td>ckn_pesto</td>\n",
       "      <td>L</td>\n",
       "      <td>20.75</td>\n",
       "    </tr>\n",
       "    <tr>\n",
       "      <th>14</th>\n",
       "      <td>southw_ckn_l</td>\n",
       "      <td>southw_ckn</td>\n",
       "      <td>L</td>\n",
       "      <td>20.75</td>\n",
       "    </tr>\n",
       "    <tr>\n",
       "      <th>17</th>\n",
       "      <td>thai_ckn_l</td>\n",
       "      <td>thai_ckn</td>\n",
       "      <td>L</td>\n",
       "      <td>20.75</td>\n",
       "    </tr>\n",
       "    <tr>\n",
       "      <th>20</th>\n",
       "      <td>big_meat_l</td>\n",
       "      <td>big_meat</td>\n",
       "      <td>L</td>\n",
       "      <td>20.50</td>\n",
       "    </tr>\n",
       "    <tr>\n",
       "      <th>23</th>\n",
       "      <td>classic_dlx_l</td>\n",
       "      <td>classic_dlx</td>\n",
       "      <td>L</td>\n",
       "      <td>20.50</td>\n",
       "    </tr>\n",
       "    <tr>\n",
       "      <th>26</th>\n",
       "      <td>hawaiian_l</td>\n",
       "      <td>hawaiian</td>\n",
       "      <td>L</td>\n",
       "      <td>16.50</td>\n",
       "    </tr>\n",
       "    <tr>\n",
       "      <th>29</th>\n",
       "      <td>ital_cpcllo_l</td>\n",
       "      <td>ital_cpcllo</td>\n",
       "      <td>L</td>\n",
       "      <td>20.50</td>\n",
       "    </tr>\n",
       "    <tr>\n",
       "      <th>32</th>\n",
       "      <td>napolitana_l</td>\n",
       "      <td>napolitana</td>\n",
       "      <td>L</td>\n",
       "      <td>20.50</td>\n",
       "    </tr>\n",
       "    <tr>\n",
       "      <th>35</th>\n",
       "      <td>pep_msh_pep_l</td>\n",
       "      <td>pep_msh_pep</td>\n",
       "      <td>L</td>\n",
       "      <td>17.50</td>\n",
       "    </tr>\n",
       "    <tr>\n",
       "      <th>38</th>\n",
       "      <td>pepperoni_l</td>\n",
       "      <td>pepperoni</td>\n",
       "      <td>L</td>\n",
       "      <td>15.25</td>\n",
       "    </tr>\n",
       "    <tr>\n",
       "      <th>41</th>\n",
       "      <td>the_greek_l</td>\n",
       "      <td>the_greek</td>\n",
       "      <td>L</td>\n",
       "      <td>20.50</td>\n",
       "    </tr>\n",
       "    <tr>\n",
       "      <th>47</th>\n",
       "      <td>calabrese_l</td>\n",
       "      <td>calabrese</td>\n",
       "      <td>L</td>\n",
       "      <td>20.25</td>\n",
       "    </tr>\n",
       "    <tr>\n",
       "      <th>50</th>\n",
       "      <td>ital_supr_l</td>\n",
       "      <td>ital_supr</td>\n",
       "      <td>L</td>\n",
       "      <td>20.75</td>\n",
       "    </tr>\n",
       "    <tr>\n",
       "      <th>53</th>\n",
       "      <td>peppr_salami_l</td>\n",
       "      <td>peppr_salami</td>\n",
       "      <td>L</td>\n",
       "      <td>20.75</td>\n",
       "    </tr>\n",
       "    <tr>\n",
       "      <th>56</th>\n",
       "      <td>prsc_argla_l</td>\n",
       "      <td>prsc_argla</td>\n",
       "      <td>L</td>\n",
       "      <td>20.75</td>\n",
       "    </tr>\n",
       "    <tr>\n",
       "      <th>59</th>\n",
       "      <td>sicilian_l</td>\n",
       "      <td>sicilian</td>\n",
       "      <td>L</td>\n",
       "      <td>20.25</td>\n",
       "    </tr>\n",
       "    <tr>\n",
       "      <th>62</th>\n",
       "      <td>soppressata_l</td>\n",
       "      <td>soppressata</td>\n",
       "      <td>L</td>\n",
       "      <td>20.75</td>\n",
       "    </tr>\n",
       "    <tr>\n",
       "      <th>65</th>\n",
       "      <td>spicy_ital_l</td>\n",
       "      <td>spicy_ital</td>\n",
       "      <td>L</td>\n",
       "      <td>20.75</td>\n",
       "    </tr>\n",
       "    <tr>\n",
       "      <th>68</th>\n",
       "      <td>spinach_supr_l</td>\n",
       "      <td>spinach_supr</td>\n",
       "      <td>L</td>\n",
       "      <td>20.75</td>\n",
       "    </tr>\n",
       "    <tr>\n",
       "      <th>71</th>\n",
       "      <td>five_cheese_l</td>\n",
       "      <td>five_cheese</td>\n",
       "      <td>L</td>\n",
       "      <td>18.50</td>\n",
       "    </tr>\n",
       "    <tr>\n",
       "      <th>74</th>\n",
       "      <td>four_cheese_l</td>\n",
       "      <td>four_cheese</td>\n",
       "      <td>L</td>\n",
       "      <td>17.95</td>\n",
       "    </tr>\n",
       "    <tr>\n",
       "      <th>77</th>\n",
       "      <td>green_garden_l</td>\n",
       "      <td>green_garden</td>\n",
       "      <td>L</td>\n",
       "      <td>20.25</td>\n",
       "    </tr>\n",
       "    <tr>\n",
       "      <th>80</th>\n",
       "      <td>ital_veggie_l</td>\n",
       "      <td>ital_veggie</td>\n",
       "      <td>L</td>\n",
       "      <td>21.00</td>\n",
       "    </tr>\n",
       "    <tr>\n",
       "      <th>83</th>\n",
       "      <td>mediterraneo_l</td>\n",
       "      <td>mediterraneo</td>\n",
       "      <td>L</td>\n",
       "      <td>20.25</td>\n",
       "    </tr>\n",
       "    <tr>\n",
       "      <th>86</th>\n",
       "      <td>mexicana_l</td>\n",
       "      <td>mexicana</td>\n",
       "      <td>L</td>\n",
       "      <td>20.25</td>\n",
       "    </tr>\n",
       "    <tr>\n",
       "      <th>89</th>\n",
       "      <td>spin_pesto_l</td>\n",
       "      <td>spin_pesto</td>\n",
       "      <td>L</td>\n",
       "      <td>20.75</td>\n",
       "    </tr>\n",
       "    <tr>\n",
       "      <th>92</th>\n",
       "      <td>spinach_fet_l</td>\n",
       "      <td>spinach_fet</td>\n",
       "      <td>L</td>\n",
       "      <td>20.25</td>\n",
       "    </tr>\n",
       "    <tr>\n",
       "      <th>95</th>\n",
       "      <td>veggie_veg_l</td>\n",
       "      <td>veggie_veg</td>\n",
       "      <td>L</td>\n",
       "      <td>20.25</td>\n",
       "    </tr>\n",
       "  </tbody>\n",
       "</table>\n",
       "</div>"
      ],
      "text/plain": [
       "          pizza_id pizza_type_id size  price\n",
       "2        bbq_ckn_l       bbq_ckn    L  20.75\n",
       "5       cali_ckn_l      cali_ckn    L  20.75\n",
       "8    ckn_alfredo_l   ckn_alfredo    L  20.75\n",
       "11     ckn_pesto_l     ckn_pesto    L  20.75\n",
       "14    southw_ckn_l    southw_ckn    L  20.75\n",
       "17      thai_ckn_l      thai_ckn    L  20.75\n",
       "20      big_meat_l      big_meat    L  20.50\n",
       "23   classic_dlx_l   classic_dlx    L  20.50\n",
       "26      hawaiian_l      hawaiian    L  16.50\n",
       "29   ital_cpcllo_l   ital_cpcllo    L  20.50\n",
       "32    napolitana_l    napolitana    L  20.50\n",
       "35   pep_msh_pep_l   pep_msh_pep    L  17.50\n",
       "38     pepperoni_l     pepperoni    L  15.25\n",
       "41     the_greek_l     the_greek    L  20.50\n",
       "47     calabrese_l     calabrese    L  20.25\n",
       "50     ital_supr_l     ital_supr    L  20.75\n",
       "53  peppr_salami_l  peppr_salami    L  20.75\n",
       "56    prsc_argla_l    prsc_argla    L  20.75\n",
       "59      sicilian_l      sicilian    L  20.25\n",
       "62   soppressata_l   soppressata    L  20.75\n",
       "65    spicy_ital_l    spicy_ital    L  20.75\n",
       "68  spinach_supr_l  spinach_supr    L  20.75\n",
       "71   five_cheese_l   five_cheese    L  18.50\n",
       "74   four_cheese_l   four_cheese    L  17.95\n",
       "77  green_garden_l  green_garden    L  20.25\n",
       "80   ital_veggie_l   ital_veggie    L  21.00\n",
       "83  mediterraneo_l  mediterraneo    L  20.25\n",
       "86      mexicana_l      mexicana    L  20.25\n",
       "89    spin_pesto_l    spin_pesto    L  20.75\n",
       "92   spinach_fet_l   spinach_fet    L  20.25\n",
       "95    veggie_veg_l    veggie_veg    L  20.25"
      ]
     },
     "execution_count": 23,
     "metadata": {},
     "output_type": "execute_result"
    }
   ],
   "source": [
    "# Subset the pizzas dataset for large pizzas only\n",
    "large_pizzas = pizzas[pizzas['size'] == 'L']\n",
    "large_pizzas"
   ]
  },
  {
   "cell_type": "code",
   "execution_count": 24,
   "id": "834fb089-e15a-4d7b-9fdc-f9544e3648cd",
   "metadata": {},
   "outputs": [
    {
     "data": {
      "text/plain": [
       "16.440625"
      ]
     },
     "metadata": {},
     "output_type": "display_data"
    },
    {
     "data": {
      "text/plain": [
       "16.25"
      ]
     },
     "metadata": {},
     "output_type": "display_data"
    }
   ],
   "source": [
    "# Calculate the mean and median price of pizzas\n",
    "mean_price = pizzas['price'].mean()\n",
    "median_price = pizzas['price'].median()\n",
    "display(mean_price)\n",
    "display(median_price)"
   ]
  },
  {
   "cell_type": "code",
   "execution_count": 25,
   "id": "a199de3c-9a2f-4f7f-b508-384a115fde4d",
   "metadata": {},
   "outputs": [
    {
     "data": {
      "text/plain": [
       "0.0071424639246699135"
      ]
     },
     "execution_count": 25,
     "metadata": {},
     "output_type": "execute_result"
    }
   ],
   "source": [
    "# Calculate the correlation between quantity and price\n",
    "correlation = merged_data_pizzaId['quantity'].corr(merged_data_pizzaId['price'])\n",
    "correlation"
   ]
  },
  {
   "cell_type": "code",
   "execution_count": 26,
   "id": "c8f8cf1f-9388-4efc-8659-0ce335668e94",
   "metadata": {},
   "outputs": [
    {
     "data": {
      "text/plain": [
       "count    96.000000\n",
       "mean     16.440625\n",
       "std       4.090266\n",
       "min       9.750000\n",
       "25%      12.500000\n",
       "50%      16.250000\n",
       "75%      20.250000\n",
       "max      35.950000\n",
       "Name: price, dtype: float64"
      ]
     },
     "execution_count": 26,
     "metadata": {},
     "output_type": "execute_result"
    }
   ],
   "source": [
    "# Calculate summary statistics of pizza prices\n",
    "pizza_price_stats = pizzas['price'].describe()\n",
    "pizza_price_stats"
   ]
  },
  {
   "cell_type": "code",
   "execution_count": 27,
   "id": "dec828fa-ac38-480a-857e-87fb57c8d8d1",
   "metadata": {},
   "outputs": [
    {
     "data": {
      "text/plain": [
       "size\n",
       "L      375318.70\n",
       "M      249382.25\n",
       "S      178076.50\n",
       "XL      14076.00\n",
       "XXL      1006.60\n",
       "Name: total_price, dtype: float64"
      ]
     },
     "execution_count": 27,
     "metadata": {},
     "output_type": "execute_result"
    }
   ],
   "source": [
    "# Calculate the total revenue generated by each pizza size\n",
    "revenue_by_size = merged_data_pizzaId.groupby('size')['total_price'].sum()\n",
    "revenue_by_size"
   ]
  },
  {
   "cell_type": "code",
   "execution_count": 28,
   "id": "58b1387d-c932-4b4e-9c30-f1f28000e9ae",
   "metadata": {},
   "outputs": [
    {
     "data": {
      "text/plain": [
       "category\n",
       "Chicken    38\n",
       "Classic    34\n",
       "Supreme    52\n",
       "Veggie     57\n",
       "Name: num_ingredients, dtype: int64"
      ]
     },
     "execution_count": 28,
     "metadata": {},
     "output_type": "execute_result"
    }
   ],
   "source": [
    "# Calculate the total number of unique ingredients in each category\n",
    "pizza_types['num_ingredients'] = pizza_types['ingredients'].str.split(',').apply(lambda x: len(x))\n",
    "ingredient_stats = pizza_types.groupby('category')['num_ingredients'].sum()\n",
    "ingredient_stats"
   ]
  },
  {
   "cell_type": "code",
   "execution_count": 29,
   "id": "5c415fae-bf30-49fe-a98a-1a31932b5fee",
   "metadata": {},
   "outputs": [
    {
     "data": {
      "text/plain": [
       "pizza_type_id\n",
       "bbq_ckn         42768.00\n",
       "big_meat        22968.00\n",
       "brie_carre      11588.50\n",
       "calabrese       15934.25\n",
       "cali_ckn        41409.50\n",
       "ckn_alfredo     16900.25\n",
       "ckn_pesto       16701.75\n",
       "classic_dlx     38180.50\n",
       "five_cheese     26066.50\n",
       "four_cheese     32265.70\n",
       "green_garden    13955.75\n",
       "hawaiian        32273.25\n",
       "ital_cpcllo     25094.00\n",
       "ital_supr       33476.75\n",
       "ital_veggie     16019.25\n",
       "mediterraneo    15360.50\n",
       "mexicana        26780.75\n",
       "napolitana      24087.00\n",
       "pep_msh_pep     18834.50\n",
       "pepperoni       30161.75\n",
       "peppr_salami    25529.00\n",
       "prsc_argla      24193.25\n",
       "sicilian        30940.50\n",
       "soppressata     16425.75\n",
       "southw_ckn      34705.75\n",
       "spicy_ital      34831.25\n",
       "spin_pesto      15596.00\n",
       "spinach_fet     23271.25\n",
       "spinach_supr    15277.75\n",
       "thai_ckn        43434.25\n",
       "the_greek       28454.10\n",
       "veggie_veg      24374.75\n",
       "Name: total_price, dtype: float64"
      ]
     },
     "execution_count": 29,
     "metadata": {},
     "output_type": "execute_result"
    }
   ],
   "source": [
    "# Calculate the total revenue generated by each pizza category\n",
    "revenue_by_category = merged_data_pizzaId.groupby('pizza_type_id')['total_price'].sum()\n",
    "revenue_by_category"
   ]
  },
  {
   "cell_type": "code",
   "execution_count": 30,
   "id": "e7f666ef-5279-4788-9ced-dcc48c998a48",
   "metadata": {},
   "outputs": [
    {
     "data": {
      "text/plain": [
       "35.95"
      ]
     },
     "metadata": {},
     "output_type": "display_data"
    },
    {
     "data": {
      "text/plain": [
       "9.75"
      ]
     },
     "metadata": {},
     "output_type": "display_data"
    }
   ],
   "source": [
    "# Calculate the maximum and minimum prices of pizzas\n",
    "max_price = pizzas['price'].max()\n",
    "min_price = pizzas['price'].min()\n",
    "display(max_price)\n",
    "display(min_price)"
   ]
  },
  {
   "cell_type": "code",
   "execution_count": 31,
   "id": "1365d988-601e-4c39-815b-b680000027b0",
   "metadata": {},
   "outputs": [
    {
     "data": {
      "text/plain": [
       "21350"
      ]
     },
     "execution_count": 31,
     "metadata": {},
     "output_type": "execute_result"
    }
   ],
   "source": [
    "# Calculate the number of unique customers\n",
    "unique_customers = merged_data_pizzaId['order_id'].nunique()\n",
    "unique_customers"
   ]
  },
  {
   "cell_type": "code",
   "execution_count": 32,
   "id": "9444d876-5d0a-4927-950b-f904b884919f",
   "metadata": {},
   "outputs": [
    {
     "data": {
      "text/plain": [
       "61.58782201405152"
      ]
     },
     "execution_count": 32,
     "metadata": {},
     "output_type": "execute_result"
    }
   ],
   "source": [
    "# Calculate the percentage of repeat customers (customers who have placed multiple orders).\n",
    "repeat_customers_percentage = (merged_data_pizzaId['order_id'].value_counts() > 1).mean() * 100\n",
    "repeat_customers_percentage"
   ]
  },
  {
   "cell_type": "code",
   "execution_count": 33,
   "id": "2fe99f90-54e1-4cf5-a615-b4316490f379",
   "metadata": {},
   "outputs": [
    {
     "data": {
      "text/plain": [
       "2.321967213114754"
      ]
     },
     "execution_count": 33,
     "metadata": {},
     "output_type": "execute_result"
    }
   ],
   "source": [
    "# Calculate the average quantity per customer\n",
    "average_quantity_per_customer = merged_data_pizzaId.groupby('order_id')['quantity'].sum().mean()\n",
    "average_quantity_per_customer"
   ]
  },
  {
   "cell_type": "code",
   "execution_count": 34,
   "id": "d4cf7623-57f2-449e-9424-1e7bb4fb601d",
   "metadata": {},
   "outputs": [
    {
     "data": {
      "text/plain": [
       "pizza_type_id\n",
       "brie_carre      23.650000\n",
       "the_greek       21.990000\n",
       "ital_veggie     16.833333\n",
       "bbq_ckn         16.750000\n",
       "cali_ckn        16.750000\n",
       "ckn_alfredo     16.750000\n",
       "ckn_pesto       16.750000\n",
       "thai_ckn        16.750000\n",
       "southw_ckn      16.750000\n",
       "spicy_ital      16.583333\n",
       "prsc_argla      16.583333\n",
       "peppr_salami    16.583333\n",
       "spinach_supr    16.583333\n",
       "soppressata     16.583333\n",
       "ital_supr       16.583333\n",
       "spin_pesto      16.583333\n",
       "sicilian        16.250000\n",
       "calabrese       16.250000\n",
       "napolitana      16.166667\n",
       "big_meat        16.166667\n",
       "ital_cpcllo     16.166667\n",
       "classic_dlx     16.166667\n",
       "spinach_fet     16.083333\n",
       "mexicana        16.083333\n",
       "mediterraneo    16.083333\n",
       "green_garden    16.083333\n",
       "veggie_veg      16.083333\n",
       "five_cheese     15.500000\n",
       "four_cheese     14.816667\n",
       "pep_msh_pep     14.333333\n",
       "hawaiian        13.416667\n",
       "pepperoni       12.500000\n",
       "Name: price, dtype: float64"
      ]
     },
     "execution_count": 34,
     "metadata": {},
     "output_type": "execute_result"
    }
   ],
   "source": [
    "# Calculate the average price for each pizza category\n",
    "average_price_by_category = pizzas.groupby('pizza_type_id')['price'].mean().sort_values(ascending=False)\n",
    "average_price_by_category"
   ]
  },
  {
   "cell_type": "code",
   "execution_count": 35,
   "id": "1cda85b9-3ff5-4b7b-8fcf-dc521da291de",
   "metadata": {},
   "outputs": [
    {
     "data": {
      "text/plain": [
       "S      33.333333\n",
       "M      32.291667\n",
       "L      32.291667\n",
       "XL      1.041667\n",
       "XXL     1.041667\n",
       "Name: size, dtype: float64"
      ]
     },
     "execution_count": 35,
     "metadata": {},
     "output_type": "execute_result"
    }
   ],
   "source": [
    "# Calculate the percentage distribution of pizza sizes\n",
    "pizza_size_distribution = pizzas['size'].value_counts(normalize=True) * 100\n",
    "pizza_size_distribution"
   ]
  },
  {
   "cell_type": "code",
   "execution_count": 36,
   "id": "8386034f-5c3a-4a64-a874-b440006eb1a0",
   "metadata": {},
   "outputs": [
    {
     "data": {
      "text/plain": [
       "size\n",
       "L      19.802553\n",
       "M      15.951219\n",
       "S      12.364328\n",
       "XL     25.500000\n",
       "XXL    35.950000\n",
       "Name: price, dtype: float64"
      ]
     },
     "execution_count": 36,
     "metadata": {},
     "output_type": "execute_result"
    }
   ],
   "source": [
    "# Calculate the average price by size\n",
    "average_price_by_size = merged_data_pizzaId.groupby('size')['price'].mean()\n",
    "average_price_by_size"
   ]
  },
  {
   "cell_type": "code",
   "execution_count": 37,
   "id": "76313f4d-0606-4272-9191-4e5001f7f9f3",
   "metadata": {},
   "outputs": [
    {
     "data": {
      "text/plain": [
       "pizza_type_id\n",
       "thai_ckn        43434.25\n",
       "bbq_ckn         42768.00\n",
       "cali_ckn        41409.50\n",
       "classic_dlx     38180.50\n",
       "spicy_ital      34831.25\n",
       "southw_ckn      34705.75\n",
       "ital_supr       33476.75\n",
       "hawaiian        32273.25\n",
       "four_cheese     32265.70\n",
       "sicilian        30940.50\n",
       "pepperoni       30161.75\n",
       "the_greek       28454.10\n",
       "mexicana        26780.75\n",
       "five_cheese     26066.50\n",
       "peppr_salami    25529.00\n",
       "ital_cpcllo     25094.00\n",
       "veggie_veg      24374.75\n",
       "prsc_argla      24193.25\n",
       "napolitana      24087.00\n",
       "spinach_fet     23271.25\n",
       "big_meat        22968.00\n",
       "pep_msh_pep     18834.50\n",
       "ckn_alfredo     16900.25\n",
       "ckn_pesto       16701.75\n",
       "soppressata     16425.75\n",
       "ital_veggie     16019.25\n",
       "calabrese       15934.25\n",
       "spin_pesto      15596.00\n",
       "mediterraneo    15360.50\n",
       "spinach_supr    15277.75\n",
       "green_garden    13955.75\n",
       "brie_carre      11588.50\n",
       "Name: total_price, dtype: float64"
      ]
     },
     "execution_count": 37,
     "metadata": {},
     "output_type": "execute_result"
    }
   ],
   "source": [
    "# Calculate the revenue by pizza type\n",
    "revenue_by_pizza_type = merged_data_pizzaId.groupby('pizza_type_id')['total_price'].sum().sort_values(ascending=False)\n",
    "revenue_by_pizza_type"
   ]
  },
  {
   "cell_type": "code",
   "execution_count": 38,
   "id": "fdb38f4e-f975-4e4e-a290-bfd9f87d6bfe",
   "metadata": {},
   "outputs": [
    {
     "data": {
      "text/html": [
       "<div>\n",
       "<style scoped>\n",
       "    .dataframe tbody tr th:only-of-type {\n",
       "        vertical-align: middle;\n",
       "    }\n",
       "\n",
       "    .dataframe tbody tr th {\n",
       "        vertical-align: top;\n",
       "    }\n",
       "\n",
       "    .dataframe thead th {\n",
       "        text-align: right;\n",
       "    }\n",
       "</style>\n",
       "<table border=\"1\" class=\"dataframe\">\n",
       "  <thead>\n",
       "    <tr style=\"text-align: right;\">\n",
       "      <th></th>\n",
       "      <th>pizza_id</th>\n",
       "      <th>pizza_type_id</th>\n",
       "      <th>size</th>\n",
       "      <th>price</th>\n",
       "    </tr>\n",
       "  </thead>\n",
       "  <tbody>\n",
       "    <tr>\n",
       "      <th>43</th>\n",
       "      <td>the_greek_xxl</td>\n",
       "      <td>the_greek</td>\n",
       "      <td>XXL</td>\n",
       "      <td>35.95</td>\n",
       "    </tr>\n",
       "    <tr>\n",
       "      <th>42</th>\n",
       "      <td>the_greek_xl</td>\n",
       "      <td>the_greek</td>\n",
       "      <td>XL</td>\n",
       "      <td>25.50</td>\n",
       "    </tr>\n",
       "    <tr>\n",
       "      <th>44</th>\n",
       "      <td>brie_carre_s</td>\n",
       "      <td>brie_carre</td>\n",
       "      <td>S</td>\n",
       "      <td>23.65</td>\n",
       "    </tr>\n",
       "    <tr>\n",
       "      <th>80</th>\n",
       "      <td>ital_veggie_l</td>\n",
       "      <td>ital_veggie</td>\n",
       "      <td>L</td>\n",
       "      <td>21.00</td>\n",
       "    </tr>\n",
       "    <tr>\n",
       "      <th>50</th>\n",
       "      <td>ital_supr_l</td>\n",
       "      <td>ital_supr</td>\n",
       "      <td>L</td>\n",
       "      <td>20.75</td>\n",
       "    </tr>\n",
       "  </tbody>\n",
       "</table>\n",
       "</div>"
      ],
      "text/plain": [
       "         pizza_id pizza_type_id size  price\n",
       "43  the_greek_xxl     the_greek  XXL  35.95\n",
       "42   the_greek_xl     the_greek   XL  25.50\n",
       "44   brie_carre_s    brie_carre    S  23.65\n",
       "80  ital_veggie_l   ital_veggie    L  21.00\n",
       "50    ital_supr_l     ital_supr    L  20.75"
      ]
     },
     "execution_count": 38,
     "metadata": {},
     "output_type": "execute_result"
    }
   ],
   "source": [
    "# Data Sorting and Ranking\n",
    "# Sort pizzas by price in descending order\n",
    "sorted_pizzas = pizzas.sort_values('price', ascending=False)\n",
    "sorted_pizzas.head()"
   ]
  },
  {
   "cell_type": "code",
   "execution_count": 39,
   "id": "6eb1146c-5438-4b8e-a39d-1fec9017dcf5",
   "metadata": {},
   "outputs": [
    {
     "data": {
      "text/html": [
       "<div>\n",
       "<style scoped>\n",
       "    .dataframe tbody tr th:only-of-type {\n",
       "        vertical-align: middle;\n",
       "    }\n",
       "\n",
       "    .dataframe tbody tr th {\n",
       "        vertical-align: top;\n",
       "    }\n",
       "\n",
       "    .dataframe thead th {\n",
       "        text-align: right;\n",
       "    }\n",
       "</style>\n",
       "<table border=\"1\" class=\"dataframe\">\n",
       "  <thead>\n",
       "    <tr style=\"text-align: right;\">\n",
       "      <th></th>\n",
       "      <th>pizza_id</th>\n",
       "      <th>pizza_type_id</th>\n",
       "      <th>size</th>\n",
       "      <th>price</th>\n",
       "    </tr>\n",
       "  </thead>\n",
       "  <tbody>\n",
       "    <tr>\n",
       "      <th>93</th>\n",
       "      <td>veggie_veg_s</td>\n",
       "      <td>veggie_veg</td>\n",
       "      <td>S</td>\n",
       "      <td>12.00</td>\n",
       "    </tr>\n",
       "    <tr>\n",
       "      <th>94</th>\n",
       "      <td>veggie_veg_m</td>\n",
       "      <td>veggie_veg</td>\n",
       "      <td>M</td>\n",
       "      <td>16.00</td>\n",
       "    </tr>\n",
       "    <tr>\n",
       "      <th>95</th>\n",
       "      <td>veggie_veg_l</td>\n",
       "      <td>veggie_veg</td>\n",
       "      <td>L</td>\n",
       "      <td>20.25</td>\n",
       "    </tr>\n",
       "  </tbody>\n",
       "</table>\n",
       "</div>"
      ],
      "text/plain": [
       "        pizza_id pizza_type_id size  price\n",
       "93  veggie_veg_s    veggie_veg    S  12.00\n",
       "94  veggie_veg_m    veggie_veg    M  16.00\n",
       "95  veggie_veg_l    veggie_veg    L  20.25"
      ]
     },
     "execution_count": 39,
     "metadata": {},
     "output_type": "execute_result"
    }
   ],
   "source": [
    "# Subset the pizzas dataset for vegetarian pizzas only\n",
    "vegetarian_pizzas = pizzas[pizzas['pizza_type_id'] == 'veggie_veg']\n",
    "vegetarian_pizzas"
   ]
  },
  {
   "cell_type": "code",
   "execution_count": 40,
   "id": "39a4854f-77e1-43bb-8e89-dcf8386dab3c",
   "metadata": {},
   "outputs": [
    {
     "data": {
      "text/html": [
       "<div>\n",
       "<style scoped>\n",
       "    .dataframe tbody tr th:only-of-type {\n",
       "        vertical-align: middle;\n",
       "    }\n",
       "\n",
       "    .dataframe tbody tr th {\n",
       "        vertical-align: top;\n",
       "    }\n",
       "\n",
       "    .dataframe thead th {\n",
       "        text-align: right;\n",
       "    }\n",
       "</style>\n",
       "<table border=\"1\" class=\"dataframe\">\n",
       "  <thead>\n",
       "    <tr style=\"text-align: right;\">\n",
       "      <th></th>\n",
       "      <th>order_details_id</th>\n",
       "      <th>order_id</th>\n",
       "      <th>pizza_id</th>\n",
       "      <th>quantity</th>\n",
       "      <th>pizza_type_id</th>\n",
       "      <th>size</th>\n",
       "      <th>price</th>\n",
       "      <th>total_price</th>\n",
       "      <th>quantity_rank</th>\n",
       "    </tr>\n",
       "  </thead>\n",
       "  <tbody>\n",
       "    <tr>\n",
       "      <th>0</th>\n",
       "      <td>1</td>\n",
       "      <td>1</td>\n",
       "      <td>hawaiian_m</td>\n",
       "      <td>1</td>\n",
       "      <td>hawaiian</td>\n",
       "      <td>M</td>\n",
       "      <td>13.25</td>\n",
       "      <td>13.25</td>\n",
       "      <td>24774.0</td>\n",
       "    </tr>\n",
       "    <tr>\n",
       "      <th>1</th>\n",
       "      <td>179</td>\n",
       "      <td>77</td>\n",
       "      <td>hawaiian_m</td>\n",
       "      <td>1</td>\n",
       "      <td>hawaiian</td>\n",
       "      <td>M</td>\n",
       "      <td>13.25</td>\n",
       "      <td>13.25</td>\n",
       "      <td>24774.0</td>\n",
       "    </tr>\n",
       "    <tr>\n",
       "      <th>2</th>\n",
       "      <td>357</td>\n",
       "      <td>146</td>\n",
       "      <td>hawaiian_m</td>\n",
       "      <td>1</td>\n",
       "      <td>hawaiian</td>\n",
       "      <td>M</td>\n",
       "      <td>13.25</td>\n",
       "      <td>13.25</td>\n",
       "      <td>24774.0</td>\n",
       "    </tr>\n",
       "    <tr>\n",
       "      <th>3</th>\n",
       "      <td>389</td>\n",
       "      <td>163</td>\n",
       "      <td>hawaiian_m</td>\n",
       "      <td>1</td>\n",
       "      <td>hawaiian</td>\n",
       "      <td>M</td>\n",
       "      <td>13.25</td>\n",
       "      <td>13.25</td>\n",
       "      <td>24774.0</td>\n",
       "    </tr>\n",
       "    <tr>\n",
       "      <th>4</th>\n",
       "      <td>568</td>\n",
       "      <td>247</td>\n",
       "      <td>hawaiian_m</td>\n",
       "      <td>1</td>\n",
       "      <td>hawaiian</td>\n",
       "      <td>M</td>\n",
       "      <td>13.25</td>\n",
       "      <td>13.25</td>\n",
       "      <td>24774.0</td>\n",
       "    </tr>\n",
       "  </tbody>\n",
       "</table>\n",
       "</div>"
      ],
      "text/plain": [
       "   order_details_id  order_id    pizza_id  quantity pizza_type_id size  price  \\\n",
       "0                 1         1  hawaiian_m         1      hawaiian    M  13.25   \n",
       "1               179        77  hawaiian_m         1      hawaiian    M  13.25   \n",
       "2               357       146  hawaiian_m         1      hawaiian    M  13.25   \n",
       "3               389       163  hawaiian_m         1      hawaiian    M  13.25   \n",
       "4               568       247  hawaiian_m         1      hawaiian    M  13.25   \n",
       "\n",
       "   total_price  quantity_rank  \n",
       "0        13.25        24774.0  \n",
       "1        13.25        24774.0  \n",
       "2        13.25        24774.0  \n",
       "3        13.25        24774.0  \n",
       "4        13.25        24774.0  "
      ]
     },
     "execution_count": 40,
     "metadata": {},
     "output_type": "execute_result"
    }
   ],
   "source": [
    "# Rank pizzas by quantity ordered\n",
    "merged_data_pizzaId['quantity_rank'] = merged_data_pizzaId['quantity'].rank(ascending=False)\n",
    "merged_data_pizzaId.head()"
   ]
  },
  {
   "cell_type": "code",
   "execution_count": null,
   "id": "74593ffa-cca8-43cb-975e-26b51474c44a",
   "metadata": {},
   "outputs": [],
   "source": []
  },
  {
   "cell_type": "markdown",
   "id": "5a769ffb-e781-46c5-b1d4-d4b636f6afc5",
   "metadata": {},
   "source": [
    "# Visualization"
   ]
  },
  {
   "cell_type": "code",
   "execution_count": 41,
   "id": "e1d9d71f-7c78-4136-856b-6304b63608eb",
   "metadata": {},
   "outputs": [
    {
     "data": {
      "image/png": "[encoded data removed]",
      "text/plain": [
       "<Figure size 720x432 with 1 Axes>"
      ]
     },
     "metadata": {
      "needs_background": "light"
     },
     "output_type": "display_data"
    }
   ],
   "source": [
    "# visualize the number of orders by hour of the day using a bar plot.\n",
    "# this will provide insights into the distribution of orders throughout the day.\n",
    "\n",
    "orders_by_hour.plot(kind='bar', figsize=(10, 6))\n",
    "plt.xlabel('Hour of the Day')\n",
    "plt.ylabel('Number of Orders')\n",
    "plt.title('Number of Orders by Hour')\n",
    "plt.xticks(rotation=0)\n",
    "plt.show()"
   ]
  },
  {
   "cell_type": "code",
   "execution_count": 42,
   "id": "0b704b40-c6bf-4b8e-bb79-a2f7250e144a",
   "metadata": {},
   "outputs": [
    {
     "data": {
      "image/png": "[encoded data removed]",
      "text/plain": [
       "<Figure size 432x288 with 1 Axes>"
      ]
     },
     "metadata": {
      "needs_background": "light"
     },
     "output_type": "display_data"
    }
   ],
   "source": [
    "# visualize the total quantity of each pizza ordered using a bar plot. \n",
    "# this will help to understand the popularity and demand for different pizza types.\n",
    "\n",
    "pizza_quantity.plot(kind='bar')\n",
    "plt.xlabel('Pizza Type')\n",
    "plt.ylabel('Quantity')\n",
    "plt.title('Total Quantity of Each Pizza Ordered')\n",
    "plt.show()"
   ]
  },
  {
   "cell_type": "code",
   "execution_count": 43,
   "id": "020101ba-ca24-475c-875d-2201ef2b1aa2",
   "metadata": {},
   "outputs": [
    {
     "data": {
      "image/png": "[encoded data removed]",
      "text/plain": [
       "<Figure size 720x432 with 1 Axes>"
      ]
     },
     "metadata": {
      "needs_background": "light"
     },
     "output_type": "display_data"
    }
   ],
   "source": [
    "# visualize the total quantity of each pizza ordered using a bar plot with rotated x-axis labels. \n",
    "# this helps to show the quantity distribution when the pizza types have longer names.\n",
    "\n",
    "pizza_quantity = merged_data_pizzaId.groupby('pizza_type_id')['quantity'].sum().sort_values(ascending=False)\n",
    "pizza_quantity.plot(kind='bar', figsize=(10, 6))\n",
    "plt.xlabel('Pizza Type')\n",
    "plt.ylabel('Quantity')\n",
    "plt.title('Total Quantity of Each Pizza Ordered')\n",
    "plt.xticks(rotation=45)\n",
    "plt.show()"
   ]
  },
  {
   "cell_type": "code",
   "execution_count": 44,
   "id": "2c62d85d-4276-4678-8464-21039a1994b5",
   "metadata": {},
   "outputs": [
    {
     "data": {
      "image/png": "[encoded data removed]",
      "text/plain": [
       "<Figure size 432x288 with 1 Axes>"
      ]
     },
     "metadata": {
      "needs_background": "light"
     },
     "output_type": "display_data"
    }
   ],
   "source": [
    "# creates a box plot that displays the distribution of pizza prices by category. \n",
    "# this helps identify the price range and distribution within each pizza category\n",
    "\n",
    "sns.boxplot(x='pizza_type_id', y='price', data=pizzas)\n",
    "plt.xlabel('Pizza Category')\n",
    "plt.ylabel('Price')\n",
    "plt.title('Distribution of Pizza Prices by Category')\n",
    "plt.xticks(rotation=45)\n",
    "plt.show()"
   ]
  },
  {
   "cell_type": "code",
   "execution_count": 45,
   "id": "2919f88e-89b0-4b7c-8570-ed9b94181880",
   "metadata": {},
   "outputs": [
    {
     "data": {
      "image/png": "[encoded data removed]",
      "text/plain": [
       "<Figure size 576x360 with 1 Axes>"
      ]
     },
     "metadata": {
      "needs_background": "light"
     },
     "output_type": "display_data"
    }
   ],
   "source": [
    "average_price_by_size.plot(kind='bar', figsize=(8, 5))\n",
    "plt.xlabel('Pizza Size')\n",
    "plt.ylabel('Average Price')\n",
    "plt.title('Average Price of Pizzas by Size')\n",
    "plt.xticks(rotation=0)\n",
    "plt.show()"
   ]
  },
  {
   "cell_type": "code",
   "execution_count": 46,
   "id": "64120539-e3ab-4219-9156-50336235b605",
   "metadata": {},
   "outputs": [
    {
     "data": {
      "image/png": "[encoded data removed]",
      "text/plain": [
       "<Figure size 720x432 with 1 Axes>"
      ]
     },
     "metadata": {
      "needs_background": "light"
     },
     "output_type": "display_data"
    }
   ],
   "source": [
    "top_pizza_types = revenue_by_pizza_type.head(10)\n",
    "top_pizza_types.plot(kind='barh', figsize=(10, 6))\n",
    "plt.xlabel('Revenue')\n",
    "plt.ylabel('Pizza Type')\n",
    "plt.title('Top 10 Pizza Types by Revenue')\n",
    "plt.show()"
   ]
  },
  {
   "cell_type": "code",
   "execution_count": 47,
   "id": "c693bbda-0ccf-428e-8246-7a385052b299",
   "metadata": {},
   "outputs": [
    {
     "data": {
      "image/png": "[encoded data removed]",
      "text/plain": [
       "<Figure size 432x288 with 1 Axes>"
      ]
     },
     "metadata": {
      "needs_background": "light"
     },
     "output_type": "display_data"
    }
   ],
   "source": [
    "revenue_by_month.plot(kind='line', marker='o')\n",
    "plt.xlabel('Month')\n",
    "plt.ylabel('Revenue')\n",
    "plt.title('Revenue by Month')\n",
    "plt.xticks(range(1, 13))\n",
    "plt.show()"
   ]
  },
  {
   "cell_type": "code",
   "execution_count": 48,
   "id": "5c9fcdb6-257d-4554-b3ef-dbc4c2c35f79",
   "metadata": {},
   "outputs": [
    {
     "data": {
      "image/png": "[encoded data removed]",
      "text/plain": [
       "<Figure size 576x360 with 1 Axes>"
      ]
     },
     "metadata": {
      "needs_background": "light"
     },
     "output_type": "display_data"
    }
   ],
   "source": [
    "average_price_by_category.plot(kind='bar', figsize=(8, 5))\n",
    "plt.xlabel('Pizza Category')\n",
    "plt.ylabel('Average Price')\n",
    "plt.title('Average Price of Pizzas by Category')\n",
    "plt.xticks(rotation=0)\n",
    "plt.show()"
   ]
  },
  {
   "cell_type": "code",
   "execution_count": 49,
   "id": "a3a09b3c-376f-4405-9c03-e0de11b17773",
   "metadata": {},
   "outputs": [
    {
     "data": {
      "image/png": "[encoded data removed]",
      "text/plain": [
       "<Figure size 720x432 with 1 Axes>"
      ]
     },
     "metadata": {
      "needs_background": "light"
     },
     "output_type": "display_data"
    }
   ],
   "source": [
    "ingredient_counts.plot(kind='bar', figsize=(10, 6))\n",
    "plt.xlabel('Ingredient')\n",
    "plt.ylabel('Count')\n",
    "plt.title('Top 10 Most Commonly Used Ingredients')\n",
    "plt.xticks(rotation=45)\n",
    "plt.show()"
   ]
  },
  {
   "cell_type": "code",
   "execution_count": 50,
   "id": "3aeb85ed-9889-4cd6-bbdd-3087c9be6262",
   "metadata": {},
   "outputs": [
    {
     "data": {
      "image/png": "[encoded data removed]",
      "text/plain": [
       "<Figure size 432x288 with 1 Axes>"
      ]
     },
     "metadata": {
      "needs_background": "light"
     },
     "output_type": "display_data"
    }
   ],
   "source": [
    "pizza_size_distribution.plot(kind='bar')\n",
    "plt.xlabel('Pizza Size')\n",
    "plt.ylabel('Percentage')\n",
    "plt.title('Distribution of Pizza Sizes')\n",
    "plt.xticks(rotation=0)\n",
    "plt.show()"
   ]
  },
  {
   "cell_type": "code",
   "execution_count": 51,
   "id": "7fa1580b-f7fa-4cbd-871a-0b397b71be75",
   "metadata": {},
   "outputs": [
    {
     "data": {
      "image/png": "[encoded data removed]",
      "text/plain": [
       "<Figure size 432x288 with 1 Axes>"
      ]
     },
     "metadata": {
      "needs_background": "light"
     },
     "output_type": "display_data"
    }
   ],
   "source": [
    "orders_by_day.plot(kind='bar')\n",
    "plt.xlabel('Day of the Week')\n",
    "plt.ylabel('Number of Orders')\n",
    "plt.title('Number of Orders by Day of the Week')\n",
    "plt.xticks(rotation=45)\n",
    "plt.show()"
   ]
  },
  {
   "cell_type": "code",
   "execution_count": null,
   "id": "b224a559-8287-4084-a0ea-f398d1f871cc",
   "metadata": {},
   "outputs": [],
   "source": []
  }
 ],
 "metadata": {
  "kernelspec": {
   "display_name": "Python [conda env:RGNY] *",
   "language": "python",
   "name": "conda-env-RGNY-py"
  },
  "language_info": {
   "codemirror_mode": {
    "name": "ipython",
    "version": 3
   },
   "file_extension": ".py",
   "mimetype": "text/x-python",
   "name": "python",
   "nbconvert_exporter": "python",
   "pygments_lexer": "ipython3",
   "version": "3.7.11"
  }
 },
 "nbformat": 4,
 "nbformat_minor": 5
}
